{
 "cells": [
  {
   "cell_type": "code",
   "execution_count": null,
   "id": "37f8cf22-9f2a-4697-bb10-232102777905",
   "metadata": {},
   "outputs": [],
   "source": [
    "house = ['#50000000', '4', 'Duplex', 'Ikeja']\n",
    "house = {\n",
    "    'price(N)': '#50000000',\n",
    "    'no_of_rooms': '4',\n",
    "    'house_type': 'Duplex',\n",
    "    'location': 'Ikeja'\n",
    "}"
   ]
  },
  {
   "cell_type": "code",
   "execution_count": 11,
   "id": "93d9c839-bf96-44f3-934f-6dfde7d52935",
   "metadata": {
    "scrolled": true
   },
   "outputs": [
    {
     "name": "stdout",
     "output_type": "stream",
     "text": [
      "house prices (in Naira):\t [50000000, 55000000, 25000000, 70000000, 500000000]\n",
      "mean house price (in Naira):\t 140000000.0\n",
      "house prices (in Naira):\t [50000000, 55000000, 25000000, 70000000, 500000000]\n",
      "mean house price (in Naira):\t 140000000.0\n"
     ]
    }
   ],
   "source": [
    "# lets represent multiple houses using lists\n",
    "house_1 = [50000000, 4 , 'Duplex', 'Ikeja']\n",
    "house_2 = [55000000, 3, 'Bungalow', 'Lekki']\n",
    "house_3 = [25000000, 4, 'Bungalow', 'Ikorodu']\n",
    "house_4 = [70000000, 6, 'Semi-Detached', 'Bariga']\n",
    "house_5 = [500000000, 10, 'High-Rise', 'Badagry']\n",
    "\n",
    "#let's calculate the mean/average price of house in Lagos, using our sample data of course\n",
    "list_of_prices = [house_1[0], house_2[0], house_3[0], house_4[0], house_5[0]]\n",
    "\n",
    "# let's calculate mean/average\n",
    "mean_house_price = sum(list_of_prices) / len(list_of_prices)\n",
    "\n",
    "print(\"house prices (in Naira):\\t\", list_of_prices)\n",
    "print ('mean house price (in Naira):\\t', mean_house_price)\n",
    "\n",
    "# let's switch to dictionaries\n",
    "house_1 = {\n",
    "    'price (N)': 50000000,\n",
    "    'no_of_rooms': 4,\n",
    "    'house_type': 'Duplex',\n",
    "    'location': 'Ikeja'\n",
    "}\n",
    "house_2 = {\n",
    "    'price (N)': 55000000,\n",
    "    'no_of_rooms': 3,\n",
    "    'house_type': 'Bungalow',\n",
    "    'location': 'Lekki'\n",
    "}\n",
    "house_3= {\n",
    "    'price (N)': 25000000,\n",
    "    'no_of_rooms': 4,\n",
    "    'house_type': 'Bungalow',\n",
    "    'location': 'Ikorodu'\n",
    "}\n",
    "house_4= {\n",
    "    'price (N)': 70000000,\n",
    "    'no_of_rooms': 6,\n",
    "    'house_type': 'Semi-Detached',\n",
    "    'location': 'Bariga'\n",
    "}\n",
    "house_5= {\n",
    "    'price (N)': 500000000,\n",
    "    'no_of_rooms': 10,\n",
    "    'house_type': 'High-Rise',\n",
    "    'location': 'Badagry'\n",
    "}\n",
    "\n",
    "#let's calculate the mean/average price of house in Lagos, using our sample data of course\n",
    "list_of_prices = [house_1['price (N)'], house_2['price (N)'], house_3['price (N)'], house_4['price (N)'], house_5['price (N)']]\n",
    "\n",
    "# let's calculate mean/average\n",
    "mean_house_price = sum(list_of_prices) / len(list_of_prices)\n",
    "\n",
    "print(\"house prices (in Naira):\\t\", list_of_prices)\n",
    "print ('mean house price (in Naira):\\t', mean_house_price)"
   ]
  },
  {
   "cell_type": "code",
   "execution_count": 33,
   "id": "a96d9a94-8a82-4df0-90c1-92102d73c7ef",
   "metadata": {},
   "outputs": [
    {
     "name": "stdout",
     "output_type": "stream",
     "text": [
      "duplex count: 1 bungalow count: 2 semi_detached_count: 1 high_rise_count: 1\n"
     ]
    }
   ],
   "source": [
    "house_list = [\n",
    "    {\n",
    "    'price (N)': 50000000,\n",
    "    'no_of_rooms': 4,\n",
    "    'house_type': 'duplex',\n",
    "    'location': 'Ikeja'\n",
    "    },\n",
    "    {\n",
    "    'price (N)': 55000000,\n",
    "    'no_of_rooms': 3,\n",
    "    'house_type': 'bungalow',\n",
    "    'location': 'Lekki'\n",
    "    },\n",
    "    {\n",
    "    'price (N)': 25000000,\n",
    "    'no_of_rooms': 4,\n",
    "    'house_type': 'bungalow',\n",
    "    'location': 'Ikorodu'\n",
    "    },\n",
    "    {\n",
    "    'price (N)': 70000000,\n",
    "    'no_of_rooms': 6,\n",
    "    'house_type': 'semi-detached',\n",
    "    'location': 'Bariga'\n",
    "    },\n",
    "    {\n",
    "    'price (N)': 500000000,\n",
    "    'no_of_rooms': 10,\n",
    "    'house_type': 'high-rise',\n",
    "    'location': 'Badagry'\n",
    "    }\n",
    "]\n",
    "\n",
    "\n",
    "list_of_prices = [house_1['price (N)'], house_2['price (N)'], house_3['price (N)'], house_4['price (N)'], house_5['price (N)']]\n",
    "\n",
    "mean_house_price = sum(list_of_prices) / len(list_of_prices)\n",
    "duplex_count = 0\n",
    "bungalow_count = 0\n",
    "semi_detached_count = 0\n",
    "high_rise_count = 0\n",
    "\n",
    "\n",
    "for house in house_list:\n",
    "    if house['house_type'] == 'duplex':\n",
    "        duplex_count = duplex_count + 1\n",
    "    elif house['house_type'] == 'bungalow':\n",
    "        bungalow_count = bungalow_count + 1\n",
    "    elif house['house_type'] == 'semi-detached':\n",
    "        semi_detached_count = semi_detached_count + 1\n",
    "    elif house['house_type'] == 'high-rise':\n",
    "        high_rise_count = high_rise_count + 1\n",
    "\n",
    "print('duplex count:', duplex_count, 'bungalow count:', bungalow_count, 'semi_detached_count:', semi_detached_count, 'high_rise_count:', high_rise_count)\n",
    "    "
   ]
  },
  {
   "cell_type": "code",
   "execution_count": null,
   "id": "96b7e441-4cb4-45d3-a2d7-e3afebefb9d5",
   "metadata": {},
   "outputs": [],
   "source": []
  }
 ],
 "metadata": {
  "kernelspec": {
   "display_name": "Python 3 (ipykernel)",
   "language": "python",
   "name": "python3"
  },
  "language_info": {
   "codemirror_mode": {
    "name": "ipython",
    "version": 3
   },
   "file_extension": ".py",
   "mimetype": "text/x-python",
   "name": "python",
   "nbconvert_exporter": "python",
   "pygments_lexer": "ipython3",
   "version": "3.11.7"
  }
 },
 "nbformat": 4,
 "nbformat_minor": 5
}
